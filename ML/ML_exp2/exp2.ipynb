{
  "nbformat": 4,
  "nbformat_minor": 0,
  "metadata": {
    "colab": {
      "provenance": []
    },
    "kernelspec": {
      "name": "python3",
      "display_name": "Python 3"
    },
    "language_info": {
      "name": "python"
    }
  },
  "cells": [
    {
      "cell_type": "code",
      "execution_count": 1,
      "metadata": {
        "id": "EJJLeWoyXqIT"
      },
      "outputs": [],
      "source": [
        "import numpy as np\n",
        "import matplotlib.pyplot as plt\n",
        "import pandas as pd"
      ]
    },
    {
      "cell_type": "code",
      "source": [
        "dataset = pd.read_csv('Data.csv')\n",
        "X = dataset.iloc[:, :-1].values\n",
        "y = dataset.iloc[:, -1].values\n",
        "print(X)"
      ],
      "metadata": {
        "colab": {
          "base_uri": "https://localhost:8080/"
        },
        "id": "8FPic4XfX1qq",
        "outputId": "d26bf8eb-dfa4-460e-ef89-70d211e69932"
      },
      "execution_count": 2,
      "outputs": [
        {
          "output_type": "stream",
          "name": "stdout",
          "text": [
            "[['Rutuja Chougule' 25.0 50000.0 'F']\n",
            " ['Prajakta Darekar' nan 100000.0 'F']\n",
            " ['Sangram Ghadage' 20.0 nan 'M']\n",
            " ['Pratik Kumbhar' nan 250000.0 'M']\n",
            " ['Pooja Hanamane' 43.0 200000.0 'F']\n",
            " ['Arya Jagdale' 27.0 115000.0 'F']\n",
            " ['Madhura Parab' 32.0 95000.0 'F']\n",
            " ['Piyusha Shinde' 36.0 nan 'F']\n",
            " ['Akanksha Yedrave' 40.0 65000.0 'F']]\n"
          ]
        }
      ]
    },
    {
      "cell_type": "code",
      "source": [
        "print(y)"
      ],
      "metadata": {
        "colab": {
          "base_uri": "https://localhost:8080/"
        },
        "id": "8vyaMfdcX57B",
        "outputId": "c38feceb-b96d-4698-cf13-157fd04d7ccf"
      },
      "execution_count": 3,
      "outputs": [
        {
          "output_type": "stream",
          "name": "stdout",
          "text": [
            "['No' 'Yes' 'No' 'Yes' 'Yes' 'Yes' 'No' 'No' 'No']\n"
          ]
        }
      ]
    },
    {
      "cell_type": "code",
      "source": [
        "from sklearn.impute import SimpleImputer\n",
        "imputer = SimpleImputer(missing_values=np.nan, strategy='mean')\n",
        "imputer.fit(X[:, 1:3])\n",
        "X[:, 1:3] = imputer.transform(X[:, 1:3])\n",
        "print(X)"
      ],
      "metadata": {
        "colab": {
          "base_uri": "https://localhost:8080/"
        },
        "id": "2QBkGxiAYAKz",
        "outputId": "baa68288-78ab-461e-c103-a231f9ec2b81"
      },
      "execution_count": 4,
      "outputs": [
        {
          "output_type": "stream",
          "name": "stdout",
          "text": [
            "[['Rutuja Chougule' 25.0 50000.0 'F']\n",
            " ['Prajakta Darekar' 31.857142857142858 100000.0 'F']\n",
            " ['Sangram Ghadage' 20.0 125000.0 'M']\n",
            " ['Pratik Kumbhar' 31.857142857142858 250000.0 'M']\n",
            " ['Pooja Hanamane' 43.0 200000.0 'F']\n",
            " ['Arya Jagdale' 27.0 115000.0 'F']\n",
            " ['Madhura Parab' 32.0 95000.0 'F']\n",
            " ['Piyusha Shinde' 36.0 125000.0 'F']\n",
            " ['Akanksha Yedrave' 40.0 65000.0 'F']]\n"
          ]
        }
      ]
    },
    {
      "cell_type": "code",
      "source": [
        "from sklearn.compose import ColumnTransformer\n",
        "from sklearn.preprocessing import OneHotEncoder\n",
        "ct = ColumnTransformer(transformers=[('encoder', OneHotEncoder(), [0])], remainder='passthrough')\n",
        "X = np.array(ct.fit_transform(X))\n",
        "print(X)\n"
      ],
      "metadata": {
        "colab": {
          "base_uri": "https://localhost:8080/"
        },
        "id": "jlntVWGeYJN8",
        "outputId": "aa62f4bf-7961-4a8c-9fc6-844977c73b4d"
      },
      "execution_count": 5,
      "outputs": [
        {
          "output_type": "stream",
          "name": "stdout",
          "text": [
            "[[0.0 0.0 0.0 0.0 0.0 0.0 0.0 1.0 0.0 25.0 50000.0 'F']\n",
            " [0.0 0.0 0.0 0.0 0.0 1.0 0.0 0.0 0.0 31.857142857142858 100000.0 'F']\n",
            " [0.0 0.0 0.0 0.0 0.0 0.0 0.0 0.0 1.0 20.0 125000.0 'M']\n",
            " [0.0 0.0 0.0 0.0 0.0 0.0 1.0 0.0 0.0 31.857142857142858 250000.0 'M']\n",
            " [0.0 0.0 0.0 0.0 1.0 0.0 0.0 0.0 0.0 43.0 200000.0 'F']\n",
            " [0.0 1.0 0.0 0.0 0.0 0.0 0.0 0.0 0.0 27.0 115000.0 'F']\n",
            " [0.0 0.0 1.0 0.0 0.0 0.0 0.0 0.0 0.0 32.0 95000.0 'F']\n",
            " [0.0 0.0 0.0 1.0 0.0 0.0 0.0 0.0 0.0 36.0 125000.0 'F']\n",
            " [1.0 0.0 0.0 0.0 0.0 0.0 0.0 0.0 0.0 40.0 65000.0 'F']]\n"
          ]
        }
      ]
    },
    {
      "cell_type": "code",
      "source": [
        "from sklearn.preprocessing import LabelEncoder\n",
        "le = LabelEncoder()\n",
        "y = le.fit_transform(y)\n",
        "print(y)\n"
      ],
      "metadata": {
        "colab": {
          "base_uri": "https://localhost:8080/"
        },
        "id": "CMjFchGMYVym",
        "outputId": "d60fa31c-b6ff-4fb1-8b47-200afcf04a29"
      },
      "execution_count": 6,
      "outputs": [
        {
          "output_type": "stream",
          "name": "stdout",
          "text": [
            "[0 1 0 1 1 1 0 0 0]\n"
          ]
        }
      ]
    },
    {
      "cell_type": "code",
      "source": [
        "from sklearn.model_selection import train_test_split\n",
        "X_train, X_test, y_train, y_test = train_test_split(X, y, test_size = 0.2, random_state = 1)"
      ],
      "metadata": {
        "id": "MwWw9YsIYYWZ"
      },
      "execution_count": 7,
      "outputs": []
    },
    {
      "cell_type": "code",
      "source": [
        "print(X_train)\n"
      ],
      "metadata": {
        "colab": {
          "base_uri": "https://localhost:8080/"
        },
        "id": "c9oxS6uyYzjl",
        "outputId": "e508cc0f-4d8b-4b2b-9bca-faab86ea0c6e"
      },
      "execution_count": 8,
      "outputs": [
        {
          "output_type": "stream",
          "name": "stdout",
          "text": [
            "[[0.0 0.0 1.0 0.0 0.0 0.0 0.0 0.0 0.0 32.0 95000.0 'F']\n",
            " [0.0 0.0 0.0 1.0 0.0 0.0 0.0 0.0 0.0 36.0 125000.0 'F']\n",
            " [0.0 0.0 0.0 0.0 0.0 1.0 0.0 0.0 0.0 31.857142857142858 100000.0 'F']\n",
            " [0.0 0.0 0.0 0.0 0.0 0.0 0.0 1.0 0.0 25.0 50000.0 'F']\n",
            " [0.0 0.0 0.0 0.0 1.0 0.0 0.0 0.0 0.0 43.0 200000.0 'F']\n",
            " [0.0 0.0 0.0 0.0 0.0 0.0 1.0 0.0 0.0 31.857142857142858 250000.0 'M']\n",
            " [0.0 1.0 0.0 0.0 0.0 0.0 0.0 0.0 0.0 27.0 115000.0 'F']]\n"
          ]
        }
      ]
    },
    {
      "cell_type": "code",
      "source": [
        "print(X_test)\n",
        "\n"
      ],
      "metadata": {
        "colab": {
          "base_uri": "https://localhost:8080/"
        },
        "id": "1qh9RweoY4w8",
        "outputId": "b0cb0004-67e7-4e28-8c1f-980444c8d372"
      },
      "execution_count": 9,
      "outputs": [
        {
          "output_type": "stream",
          "name": "stdout",
          "text": [
            "[[1.0 0.0 0.0 0.0 0.0 0.0 0.0 0.0 0.0 40.0 65000.0 'F']\n",
            " [0.0 0.0 0.0 0.0 0.0 0.0 0.0 0.0 1.0 20.0 125000.0 'M']]\n"
          ]
        }
      ]
    },
    {
      "cell_type": "code",
      "source": [
        "\n",
        "print(y_train)\n",
        "\n"
      ],
      "metadata": {
        "colab": {
          "base_uri": "https://localhost:8080/"
        },
        "id": "nkBb35VLY_0O",
        "outputId": "c1f83d38-dcb7-46af-8925-c9bcd12f8837"
      },
      "execution_count": 10,
      "outputs": [
        {
          "output_type": "stream",
          "name": "stdout",
          "text": [
            "[0 0 1 0 1 1 1]\n"
          ]
        }
      ]
    },
    {
      "cell_type": "code",
      "source": [
        "\n",
        "print(y_test)\n"
      ],
      "metadata": {
        "colab": {
          "base_uri": "https://localhost:8080/"
        },
        "id": "84U66KR_ZE1G",
        "outputId": "e160ea55-e3fc-459b-b8d3-cdd57fcdeaa3"
      },
      "execution_count": 11,
      "outputs": [
        {
          "output_type": "stream",
          "name": "stdout",
          "text": [
            "[0 0]\n"
          ]
        }
      ]
    }
  ]
}