{
  "nbformat": 4,
  "nbformat_minor": 0,
  "metadata": {
    "colab": {
      "provenance": []
    },
    "kernelspec": {
      "name": "python3",
      "display_name": "Python 3"
    },
    "language_info": {
      "name": "python"
    }
  },
  "cells": [
    {
      "cell_type": "code",
      "source": [
        "# Importing Libraries\n",
        "import pandas as pd\n",
        "from sklearn.preprocessing import MinMaxScaler, StandardScaler\n",
        "\n",
        "\n",
        "\n",
        "df = pd.DataFrame(data)\n",
        "\n",
        "# Select features to scale\n",
        "features_to_scale = [\"PassengerId\"]  # Add other feature names as needed\n",
        "\n",
        "# Applying Min-Max Scaling\n",
        "min_max_scaler = MinMaxScaler()\n",
        "df_minmax = df.copy()\n",
        "df_minmax[features_to_scale] = min_max_scaler.fit_transform(df[features_to_scale])\n",
        "\n",
        "# Applying Standard Scaling\n",
        "standard_scaler = StandardScaler()\n",
        "df_standard = df.copy()\n",
        "df_standard[features_to_scale] = standard_scaler.fit_transform(df[features_to_scale])\n",
        "\n",
        "# Displaying scaled dataframes\n",
        "print(\"Original DataFrame:\")\n",
        "print(df)\n",
        "\n",
        "print(\"\\nDataFrame after Min-Max Scaling:\")\n",
        "print(df_minmax)\n",
        "\n",
        "print(\"\\nDataFrame after Standard Scaling:\")\n",
        "print(df_standard)\n"
      ],
      "metadata": {
        "colab": {
          "base_uri": "https://localhost:8080/"
        },
        "id": "8kYZrhW3Rdqh",
        "outputId": "ffe963a5-3d83-4157-9b9c-95985af6908e"
      },
      "execution_count": 9,
      "outputs": [
        {
          "output_type": "stream",
          "name": "stdout",
          "text": [
            "Original DataFrame:\n",
            "   PassengerId  Survived\n",
            "0          892         0\n",
            "1          893         1\n",
            "2          894         0\n",
            "3          895         0\n",
            "4          896         1\n",
            "5          897         0\n",
            "6          898         1\n",
            "7          899         0\n",
            "8          900         1\n",
            "9          901         0\n",
            "\n",
            "DataFrame after Min-Max Scaling:\n",
            "   PassengerId  Survived\n",
            "0     0.000000         0\n",
            "1     0.111111         1\n",
            "2     0.222222         0\n",
            "3     0.333333         0\n",
            "4     0.444444         1\n",
            "5     0.555556         0\n",
            "6     0.666667         1\n",
            "7     0.777778         0\n",
            "8     0.888889         1\n",
            "9     1.000000         0\n",
            "\n",
            "DataFrame after Standard Scaling:\n",
            "   PassengerId  Survived\n",
            "0    -1.566699         0\n",
            "1    -1.218544         1\n",
            "2    -0.870388         0\n",
            "3    -0.522233         0\n",
            "4    -0.174078         1\n",
            "5     0.174078         0\n",
            "6     0.522233         1\n",
            "7     0.870388         0\n",
            "8     1.218544         1\n",
            "9     1.566699         0\n"
          ]
        }
      ]
    }
  ]
}