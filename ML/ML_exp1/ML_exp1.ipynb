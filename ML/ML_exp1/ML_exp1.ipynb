{
  "nbformat": 4,
  "nbformat_minor": 0,
  "metadata": {
    "colab": {
      "provenance": []
    },
    "kernelspec": {
      "name": "python3",
      "display_name": "Python 3"
    },
    "language_info": {
      "name": "python"
    }
  },
  "cells": [
    {
      "cell_type": "markdown",
      "source": [
        "#                       **exp1:Study of Python**\n",
        "\n"
      ],
      "metadata": {
        "id": "IG4quP_cNJzj"
      }
    },
    {
      "cell_type": "markdown",
      "source": [
        "Variables and Data Types"
      ],
      "metadata": {
        "id": "gQFxVknFC-qn"
      }
    },
    {
      "cell_type": "code",
      "source": [
        "x=3\n",
        "y=\"hi...\"\n",
        "z=31.1\n",
        "print(x)\n",
        "print(y)\n",
        "print(z)"
      ],
      "metadata": {
        "colab": {
          "base_uri": "https://localhost:8080/"
        },
        "id": "fPZn4FGmC_20",
        "outputId": "54aa7bb9-6c62-4bcc-cf0a-cb32a2174463"
      },
      "execution_count": null,
      "outputs": [
        {
          "output_type": "stream",
          "name": "stdout",
          "text": [
            "3\n",
            "hi...\n",
            "31.1\n"
          ]
        }
      ]
    },
    {
      "cell_type": "markdown",
      "source": [
        "Basic Operations:"
      ],
      "metadata": {
        "id": "JqQngPdMDp4N"
      }
    },
    {
      "cell_type": "markdown",
      "source": [
        "arithmatic"
      ],
      "metadata": {
        "id": "FSdOZ6cVEIGO"
      }
    },
    {
      "cell_type": "code",
      "source": [
        "a=30\n",
        "b=40\n",
        "print(a+b)\n",
        "print(b-a)\n",
        "print(a*b)\n",
        "print(b/a)"
      ],
      "metadata": {
        "colab": {
          "base_uri": "https://localhost:8080/"
        },
        "id": "-elYYA_HDviH",
        "outputId": "f87d949d-9c76-4db8-8441-795b42e01add"
      },
      "execution_count": null,
      "outputs": [
        {
          "output_type": "stream",
          "name": "stdout",
          "text": [
            "70\n",
            "10\n",
            "1200\n",
            "1.3333333333333333\n"
          ]
        }
      ]
    },
    {
      "cell_type": "markdown",
      "source": [
        "logical"
      ],
      "metadata": {
        "id": "NezVbJh0EO3l"
      }
    },
    {
      "cell_type": "code",
      "source": [
        "a=1\n",
        "b=0\n",
        "print(a and b)\n",
        "print(a or b)\n",
        "print(not a)"
      ],
      "metadata": {
        "colab": {
          "base_uri": "https://localhost:8080/"
        },
        "id": "AKleQ700EUtM",
        "outputId": "46f8b981-d008-41bd-9baa-4a0b7342faa0"
      },
      "execution_count": null,
      "outputs": [
        {
          "output_type": "stream",
          "name": "stdout",
          "text": [
            "0\n",
            "1\n",
            "False\n"
          ]
        }
      ]
    },
    {
      "cell_type": "code",
      "source": [
        "Control Structures:"
      ],
      "metadata": {
        "id": "3TVLR122Ehxr"
      },
      "execution_count": null,
      "outputs": []
    },
    {
      "cell_type": "markdown",
      "source": [
        "if else"
      ],
      "metadata": {
        "id": "RPXIpjjGEp1S"
      }
    },
    {
      "cell_type": "code",
      "source": [
        "a=22\n",
        "if(a>18):\n",
        " print(\"you can vote\")\n",
        "\n",
        "else:\n",
        " print(\"you can not vote\")"
      ],
      "metadata": {
        "colab": {
          "base_uri": "https://localhost:8080/"
        },
        "id": "ePf7NudtEmV2",
        "outputId": "df459d74-5fa0-4d04-9494-9fab09b13044"
      },
      "execution_count": null,
      "outputs": [
        {
          "output_type": "stream",
          "name": "stdout",
          "text": [
            "you can vote\n"
          ]
        }
      ]
    },
    {
      "cell_type": "markdown",
      "source": [
        "loop"
      ],
      "metadata": {
        "id": "s3WtPhAXFNyH"
      }
    },
    {
      "cell_type": "code",
      "source": [
        "# while\n",
        "i=1\n",
        "while i<6 :\n",
        " print(i)\n",
        " i=i+1;"
      ],
      "metadata": {
        "colab": {
          "base_uri": "https://localhost:8080/"
        },
        "id": "a2fVIJOQFQiM",
        "outputId": "fe6510e1-9b86-4d87-b58f-67da81f7b795"
      },
      "execution_count": null,
      "outputs": [
        {
          "output_type": "stream",
          "name": "stdout",
          "text": [
            "1\n",
            "2\n",
            "3\n",
            "4\n",
            "5\n"
          ]
        }
      ]
    },
    {
      "cell_type": "code",
      "source": [
        "# for\n",
        "for i in range (1,6) :\n",
        "  print(i)"
      ],
      "metadata": {
        "colab": {
          "base_uri": "https://localhost:8080/"
        },
        "id": "IW2-bWo5GEcV",
        "outputId": "5915db85-2867-4e57-95e0-dfb5ad7de9d4"
      },
      "execution_count": null,
      "outputs": [
        {
          "output_type": "stream",
          "name": "stdout",
          "text": [
            "1\n",
            "2\n",
            "3\n",
            "4\n",
            "5\n"
          ]
        }
      ]
    },
    {
      "cell_type": "markdown",
      "source": [
        ". Functions"
      ],
      "metadata": {
        "id": "hLdsbRIEG0lb"
      }
    },
    {
      "cell_type": "code",
      "source": [
        "def fun():\n",
        "    print('Hello')\n",
        "\n",
        "# call the function\n",
        "fun()\n",
        "\n",
        "print('World!')"
      ],
      "metadata": {
        "colab": {
          "base_uri": "https://localhost:8080/"
        },
        "id": "gtNbTf2MJelo",
        "outputId": "2e6be074-1340-4abc-f06b-b41c39a35bab"
      },
      "execution_count": null,
      "outputs": [
        {
          "output_type": "stream",
          "name": "stdout",
          "text": [
            "Hello\n",
            "World!\n"
          ]
        }
      ]
    },
    {
      "cell_type": "markdown",
      "source": [
        "Lists, tuple, set, Dictionaries"
      ],
      "metadata": {
        "id": "A0jCY99eJ3_o"
      }
    },
    {
      "cell_type": "code",
      "source": [
        "l= [\"abc\", 23, 45.6]\n",
        "t= (1,2,3)\n",
        "s={7,8,9}\n",
        "d= { \"name\":\"xzy\",\n",
        "     \"city\":\"pqr\"}\n",
        "print(l)\n",
        "print(t)\n",
        "print(s)\n",
        "print(d)"
      ],
      "metadata": {
        "colab": {
          "base_uri": "https://localhost:8080/"
        },
        "id": "R6OPNH1hJ4_D",
        "outputId": "6a39a71c-1135-48e4-ce67-3b51c87bf5a9"
      },
      "execution_count": null,
      "outputs": [
        {
          "output_type": "stream",
          "name": "stdout",
          "text": [
            "['abc', 23, 45.6]\n",
            "(1, 2, 3)\n",
            "{8, 9, 7}\n",
            "{'name': 'xzy', 'city': 'pqr'}\n"
          ]
        }
      ]
    },
    {
      "cell_type": "markdown",
      "source": [
        "NumPy and Arrays"
      ],
      "metadata": {
        "id": "z6Dof_TsLyGY"
      }
    },
    {
      "cell_type": "code",
      "source": [
        "import numpy as np\n",
        "# Creating  Array\n",
        "arr = np.array([1, 2, 3])\n",
        "print(\"Array with:\",arr)"
      ],
      "metadata": {
        "colab": {
          "base_uri": "https://localhost:8080/"
        },
        "id": "5wHJ_zSnLzSS",
        "outputId": "2171bb0b-5e46-4b55-dbdd-edc9626ce900"
      },
      "execution_count": null,
      "outputs": [
        {
          "output_type": "stream",
          "name": "stdout",
          "text": [
            "Array with: [1 2 3]\n"
          ]
        }
      ]
    },
    {
      "cell_type": "markdown",
      "source": [
        "Pandas and DataFrames:"
      ],
      "metadata": {
        "id": "jm-cHEwnLrf5"
      }
    },
    {
      "cell_type": "code",
      "source": [
        "import pandas as pd\n",
        "df = pd.DataFrame({'X':[1,2,3,4,5], 'Y':[10,20,30,40,50],'Z':[100,200,300,400,500]});\n",
        "print(df)"
      ],
      "metadata": {
        "colab": {
          "base_uri": "https://localhost:8080/"
        },
        "id": "PuYy5xESMnKz",
        "outputId": "6fd5e730-30d9-4740-d434-2938244e7f32"
      },
      "execution_count": null,
      "outputs": [
        {
          "output_type": "stream",
          "name": "stdout",
          "text": [
            "   X   Y    Z\n",
            "0  1  10  100\n",
            "1  2  20  200\n",
            "2  3  30  300\n",
            "3  4  40  400\n",
            "4  5  50  500\n"
          ]
        }
      ]
    }
  ]
}